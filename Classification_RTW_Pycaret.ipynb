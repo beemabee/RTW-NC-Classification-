{
 "cells": [
  {
   "cell_type": "code",
   "execution_count": 1,
   "metadata": {},
   "outputs": [],
   "source": [
    "from IPython.display import clear_output\n",
    "clear_output()\n",
    "import numpy as np\n",
    "import pandas as pd\n",
    "import matplotlib.pyplot as plt\n",
    "import seaborn as sns\n",
    "from pycaret.classification import *\n",
    "from sklearn.model_selection import train_test_split\n",
    "from imblearn.over_sampling import RandomOverSampler\n",
    "from sklearn.metrics import classification_report, confusion_matrix\n",
    "import warnings\n",
    "warnings.filterwarnings('ignore')\n",
    "from datetime import datetime\n",
    "import os"
   ]
  },
  {
   "cell_type": "code",
   "execution_count": 2,
   "metadata": {},
   "outputs": [
    {
     "data": {
      "application/vnd.microsoft.datawrangler.viewer.v0+json": {
       "columns": [
        {
         "name": "index",
         "rawType": "int64",
         "type": "integer"
        },
        {
         "name": "SessionID",
         "rawType": "object",
         "type": "string"
        },
        {
         "name": "TimeStart",
         "rawType": "object",
         "type": "string"
        },
        {
         "name": "TimeStop",
         "rawType": "object",
         "type": "string"
        },
        {
         "name": "ProcessBy",
         "rawType": "object",
         "type": "string"
        },
        {
         "name": "ShiftID",
         "rawType": "object",
         "type": "string"
        },
        {
         "name": "Product",
         "rawType": "object",
         "type": "string"
        },
        {
         "name": "WeightID",
         "rawType": "object",
         "type": "string"
        },
        {
         "name": "Location",
         "rawType": "object",
         "type": "string"
        },
        {
         "name": "LeaderID",
         "rawType": "object",
         "type": "string"
        },
        {
         "name": "Mpw",
         "rawType": "int64",
         "type": "integer"
        },
        {
         "name": "ProdCode",
         "rawType": "object",
         "type": "string"
        },
        {
         "name": "Lot",
         "rawType": "object",
         "type": "string"
        },
        {
         "name": "QtyOutput",
         "rawType": "int64",
         "type": "integer"
        },
        {
         "name": "Remark",
         "rawType": "object",
         "type": "string"
        },
        {
         "name": "LNCNo",
         "rawType": "object",
         "type": "string"
        },
        {
         "name": "Plant",
         "rawType": "string",
         "type": "string"
        },
        {
         "name": "Department",
         "rawType": "object",
         "type": "string"
        },
        {
         "name": "WorkCenter",
         "rawType": "object",
         "type": "string"
        },
        {
         "name": "SessionID2",
         "rawType": "object",
         "type": "string"
        },
        {
         "name": "FGCode",
         "rawType": "object",
         "type": "string"
        },
        {
         "name": "LotNo",
         "rawType": "object",
         "type": "string"
        },
        {
         "name": "ProductionDate",
         "rawType": "object",
         "type": "string"
        },
        {
         "name": "Shift",
         "rawType": "string",
         "type": "string"
        },
        {
         "name": "QtyOutput3",
         "rawType": "float64",
         "type": "float"
        },
        {
         "name": "LeaderName",
         "rawType": "object",
         "type": "string"
        },
        {
         "name": "LNCStatus",
         "rawType": "object",
         "type": "string"
        },
        {
         "name": "ApproveBy",
         "rawType": "string",
         "type": "string"
        },
        {
         "name": "ApproveDate",
         "rawType": "object",
         "type": "string"
        },
        {
         "name": "CreateDate",
         "rawType": "object",
         "type": "string"
        },
        {
         "name": "CreateUser",
         "rawType": "string",
         "type": "string"
        },
        {
         "name": "isNC",
         "rawType": "int64",
         "type": "integer"
        }
       ],
       "ref": "d82a9695-aabf-4737-b923-fc922644bfee",
       "rows": [
        [
         "1",
         "BCLH000380",
         "2025-08-05 23:35:47.543",
         "2025-08-05 23:47:42.003",
         "230302",
         "3",
         "ST",
         "WMSL01",
         "SL01",
         "ELSE",
         "11",
         "30055421",
         "250805010",
         "960",
         "Completed",
         "SL-2508050003",
         "2300.0",
         "SL",
         "SL01",
         "BCLH000380",
         "30055421",
         "250805010",
         "2025-08-05",
         "1.0",
         "240.0",
         "YUSUF",
         "COMPLETED",
         "220596.0",
         "2025-08-05 17:14:06.693",
         "2025-08-05 17:14:06.693",
         "220596.0",
         "1"
        ],
        [
         "2",
         "BCLH000169",
         "2025-08-05 11:21:39.053",
         "2025-08-05 12:02:15.893",
         "920395",
         "1",
         "ST",
         "WMJK01",
         "SL01",
         "YUSUF",
         "2",
         "30055423",
         "250804006",
         "960",
         "B/F DONE",
         "SL-2508040001",
         "2300.0",
         "SL",
         "SL01",
         "BCLH000169",
         "30055423",
         "250804006",
         "2025-08-04",
         "1.0",
         "960.0",
         "YUSUF",
         "COMPLETED",
         "220596.0",
         "2025-08-04 17:13:54.677",
         "2025-08-04 17:13:54.677",
         "220596.0",
         "1"
        ],
        [
         "3",
         "BCLG002388",
         "2025-08-01 10:03:30.380",
         "2025-08-01 10:13:43.553",
         "920395",
         "1",
         "ST",
         "WMJK01",
         "SL01",
         "ELSE",
         "2",
         "30055421",
         "250801004",
         "960",
         "B/F DONE",
         "SL-2508020001",
         "2300.0",
         "SL",
         "SL01",
         "BCLG002388",
         "30055421",
         "250801004",
         "2025-08-01",
         "1.0",
         "960.0",
         "ELSE",
         "COMPLETED",
         "220596.0",
         "2025-08-02 06:53:20.893",
         "2025-08-02 06:53:20.893",
         "220596.0",
         "1"
        ],
        [
         "4",
         "BCLH000018",
         "2025-08-04 16:12:00.200",
         "2025-08-04 16:31:53.787",
         "920395",
         "1",
         "ST",
         "WMJK01",
         "SL06",
         "YUDA",
         "2",
         "20VT10000D6",
         "250801001",
         "580",
         "B/F DONE",
         "SL-2508010002",
         "2300.0",
         "SL",
         "SL06",
         "BCLH000018",
         "20VT10000D6",
         "250801001",
         "2025-08-01",
         "1.0",
         "540.0",
         "YUDA",
         "COMPLETED",
         "220534.0",
         "2025-08-01 16:14:58.287",
         "2025-08-01 16:14:58.280",
         "220534.0",
         "1"
        ],
        [
         "5",
         "BCLG002412",
         "2025-08-04 11:32:03.930",
         "2025-08-04 11:42:32.303",
         "920395",
         "1",
         "ST",
         "WMJK01",
         "SL01",
         "YUSUF",
         "2",
         "30055421",
         "250801005",
         "960",
         "B/F DONE",
         "SL-2508010001",
         "2300.0",
         "SL",
         "SL01",
         "BCLG002412",
         "30055421",
         "250801005",
         "2025-07-31",
         "1.0",
         "960.0",
         "YUSUF",
         "COMPLETED",
         "220596.0",
         "2025-08-01 06:46:09.520",
         "2025-08-01 06:46:09.520",
         "220596.0",
         "1"
        ]
       ],
       "shape": {
        "columns": 31,
        "rows": 5
       }
      },
      "text/html": [
       "<div>\n",
       "<style scoped>\n",
       "    .dataframe tbody tr th:only-of-type {\n",
       "        vertical-align: middle;\n",
       "    }\n",
       "\n",
       "    .dataframe tbody tr th {\n",
       "        vertical-align: top;\n",
       "    }\n",
       "\n",
       "    .dataframe thead th {\n",
       "        text-align: right;\n",
       "    }\n",
       "</style>\n",
       "<table border=\"1\" class=\"dataframe\">\n",
       "  <thead>\n",
       "    <tr style=\"text-align: right;\">\n",
       "      <th></th>\n",
       "      <th>SessionID</th>\n",
       "      <th>TimeStart</th>\n",
       "      <th>TimeStop</th>\n",
       "      <th>ProcessBy</th>\n",
       "      <th>ShiftID</th>\n",
       "      <th>Product</th>\n",
       "      <th>WeightID</th>\n",
       "      <th>Location</th>\n",
       "      <th>LeaderID</th>\n",
       "      <th>Mpw</th>\n",
       "      <th>...</th>\n",
       "      <th>ProductionDate</th>\n",
       "      <th>Shift</th>\n",
       "      <th>QtyOutput3</th>\n",
       "      <th>LeaderName</th>\n",
       "      <th>LNCStatus</th>\n",
       "      <th>ApproveBy</th>\n",
       "      <th>ApproveDate</th>\n",
       "      <th>CreateDate</th>\n",
       "      <th>CreateUser</th>\n",
       "      <th>isNC</th>\n",
       "    </tr>\n",
       "  </thead>\n",
       "  <tbody>\n",
       "    <tr>\n",
       "      <th>1</th>\n",
       "      <td>BCLH000380</td>\n",
       "      <td>2025-08-05 23:35:47.543</td>\n",
       "      <td>2025-08-05 23:47:42.003</td>\n",
       "      <td>230302</td>\n",
       "      <td>3</td>\n",
       "      <td>ST</td>\n",
       "      <td>WMSL01</td>\n",
       "      <td>SL01</td>\n",
       "      <td>ELSE</td>\n",
       "      <td>11</td>\n",
       "      <td>...</td>\n",
       "      <td>2025-08-05</td>\n",
       "      <td>1.0</td>\n",
       "      <td>240.0</td>\n",
       "      <td>YUSUF</td>\n",
       "      <td>COMPLETED</td>\n",
       "      <td>220596.0</td>\n",
       "      <td>2025-08-05 17:14:06.693</td>\n",
       "      <td>2025-08-05 17:14:06.693</td>\n",
       "      <td>220596.0</td>\n",
       "      <td>1</td>\n",
       "    </tr>\n",
       "    <tr>\n",
       "      <th>2</th>\n",
       "      <td>BCLH000169</td>\n",
       "      <td>2025-08-05 11:21:39.053</td>\n",
       "      <td>2025-08-05 12:02:15.893</td>\n",
       "      <td>920395</td>\n",
       "      <td>1</td>\n",
       "      <td>ST</td>\n",
       "      <td>WMJK01</td>\n",
       "      <td>SL01</td>\n",
       "      <td>YUSUF</td>\n",
       "      <td>2</td>\n",
       "      <td>...</td>\n",
       "      <td>2025-08-04</td>\n",
       "      <td>1.0</td>\n",
       "      <td>960.0</td>\n",
       "      <td>YUSUF</td>\n",
       "      <td>COMPLETED</td>\n",
       "      <td>220596.0</td>\n",
       "      <td>2025-08-04 17:13:54.677</td>\n",
       "      <td>2025-08-04 17:13:54.677</td>\n",
       "      <td>220596.0</td>\n",
       "      <td>1</td>\n",
       "    </tr>\n",
       "    <tr>\n",
       "      <th>3</th>\n",
       "      <td>BCLG002388</td>\n",
       "      <td>2025-08-01 10:03:30.380</td>\n",
       "      <td>2025-08-01 10:13:43.553</td>\n",
       "      <td>920395</td>\n",
       "      <td>1</td>\n",
       "      <td>ST</td>\n",
       "      <td>WMJK01</td>\n",
       "      <td>SL01</td>\n",
       "      <td>ELSE</td>\n",
       "      <td>2</td>\n",
       "      <td>...</td>\n",
       "      <td>2025-08-01</td>\n",
       "      <td>1.0</td>\n",
       "      <td>960.0</td>\n",
       "      <td>ELSE</td>\n",
       "      <td>COMPLETED</td>\n",
       "      <td>220596.0</td>\n",
       "      <td>2025-08-02 06:53:20.893</td>\n",
       "      <td>2025-08-02 06:53:20.893</td>\n",
       "      <td>220596.0</td>\n",
       "      <td>1</td>\n",
       "    </tr>\n",
       "    <tr>\n",
       "      <th>4</th>\n",
       "      <td>BCLH000018</td>\n",
       "      <td>2025-08-04 16:12:00.200</td>\n",
       "      <td>2025-08-04 16:31:53.787</td>\n",
       "      <td>920395</td>\n",
       "      <td>1</td>\n",
       "      <td>ST</td>\n",
       "      <td>WMJK01</td>\n",
       "      <td>SL06</td>\n",
       "      <td>YUDA</td>\n",
       "      <td>2</td>\n",
       "      <td>...</td>\n",
       "      <td>2025-08-01</td>\n",
       "      <td>1.0</td>\n",
       "      <td>540.0</td>\n",
       "      <td>YUDA</td>\n",
       "      <td>COMPLETED</td>\n",
       "      <td>220534.0</td>\n",
       "      <td>2025-08-01 16:14:58.287</td>\n",
       "      <td>2025-08-01 16:14:58.280</td>\n",
       "      <td>220534.0</td>\n",
       "      <td>1</td>\n",
       "    </tr>\n",
       "    <tr>\n",
       "      <th>5</th>\n",
       "      <td>BCLG002412</td>\n",
       "      <td>2025-08-04 11:32:03.930</td>\n",
       "      <td>2025-08-04 11:42:32.303</td>\n",
       "      <td>920395</td>\n",
       "      <td>1</td>\n",
       "      <td>ST</td>\n",
       "      <td>WMJK01</td>\n",
       "      <td>SL01</td>\n",
       "      <td>YUSUF</td>\n",
       "      <td>2</td>\n",
       "      <td>...</td>\n",
       "      <td>2025-07-31</td>\n",
       "      <td>1.0</td>\n",
       "      <td>960.0</td>\n",
       "      <td>YUSUF</td>\n",
       "      <td>COMPLETED</td>\n",
       "      <td>220596.0</td>\n",
       "      <td>2025-08-01 06:46:09.520</td>\n",
       "      <td>2025-08-01 06:46:09.520</td>\n",
       "      <td>220596.0</td>\n",
       "      <td>1</td>\n",
       "    </tr>\n",
       "  </tbody>\n",
       "</table>\n",
       "<p>5 rows × 31 columns</p>\n",
       "</div>"
      ],
      "text/plain": [
       "    SessionID                TimeStart                 TimeStop ProcessBy  \\\n",
       "1  BCLH000380  2025-08-05 23:35:47.543  2025-08-05 23:47:42.003    230302   \n",
       "2  BCLH000169  2025-08-05 11:21:39.053  2025-08-05 12:02:15.893    920395   \n",
       "3  BCLG002388  2025-08-01 10:03:30.380  2025-08-01 10:13:43.553    920395   \n",
       "4  BCLH000018  2025-08-04 16:12:00.200  2025-08-04 16:31:53.787    920395   \n",
       "5  BCLG002412  2025-08-04 11:32:03.930  2025-08-04 11:42:32.303    920395   \n",
       "\n",
       "  ShiftID Product WeightID Location LeaderID  Mpw  ... ProductionDate Shift  \\\n",
       "1       3      ST   WMSL01     SL01     ELSE   11  ...     2025-08-05   1.0   \n",
       "2       1      ST   WMJK01     SL01    YUSUF    2  ...     2025-08-04   1.0   \n",
       "3       1      ST   WMJK01     SL01     ELSE    2  ...     2025-08-01   1.0   \n",
       "4       1      ST   WMJK01     SL06     YUDA    2  ...     2025-08-01   1.0   \n",
       "5       1      ST   WMJK01     SL01    YUSUF    2  ...     2025-07-31   1.0   \n",
       "\n",
       "   QtyOutput3 LeaderName  LNCStatus ApproveBy              ApproveDate  \\\n",
       "1       240.0      YUSUF  COMPLETED  220596.0  2025-08-05 17:14:06.693   \n",
       "2       960.0      YUSUF  COMPLETED  220596.0  2025-08-04 17:13:54.677   \n",
       "3       960.0       ELSE  COMPLETED  220596.0  2025-08-02 06:53:20.893   \n",
       "4       540.0       YUDA  COMPLETED  220534.0  2025-08-01 16:14:58.287   \n",
       "5       960.0      YUSUF  COMPLETED  220596.0  2025-08-01 06:46:09.520   \n",
       "\n",
       "                CreateDate CreateUser isNC  \n",
       "1  2025-08-05 17:14:06.693   220596.0    1  \n",
       "2  2025-08-04 17:13:54.677   220596.0    1  \n",
       "3  2025-08-02 06:53:20.893   220596.0    1  \n",
       "4  2025-08-01 16:14:58.280   220534.0    1  \n",
       "5  2025-08-01 06:46:09.520   220596.0    1  \n",
       "\n",
       "[5 rows x 31 columns]"
      ]
     },
     "execution_count": 2,
     "metadata": {},
     "output_type": "execute_result"
    }
   ],
   "source": [
    "# load dataset\n",
    "df = pd.read_excel('RTW DATA.xlsx')\n",
    "\n",
    "\n",
    "def clean_data(df):\n",
    "    # Drop duplicate rows across all columns\n",
    "    df = df.drop_duplicates()\n",
    "    # Filter rows based on column: 'LNCStatus'\n",
    "    df = df[df['LNCStatus'] != \"DRAFT\"]\n",
    "\n",
    "    # Derive column 'isNC' from column: 'LNCNo'\n",
    "    def isNC(LNCNo):\n",
    "        if pd.isnull(LNCNo) or not str(LNCNo):\n",
    "            return 0\n",
    "        # Jika LNCNo mengandung \"-\", anggap sebagai NC (1)\n",
    "        if \"-\" in str(LNCNo):\n",
    "            return 1\n",
    "        return 0\n",
    "\n",
    "    df[\"isNC\"] = df[\"LNCNo\"].apply(isNC)\n",
    "\n",
    "    # Replace gaps forward from the previous valid value in: 'TimeStop'\n",
    "    df = df.fillna({'TimeStop': df['TimeStop'].ffill()})\n",
    "    # Replace missing values with the most common value of each column in: 'Product'\n",
    "    df = df.fillna({'Product': df['Product'].mode()[0]})\n",
    "    # Replace missing values with \"unknown\" in column: 'LNCNo'\n",
    "    df = df.fillna({'LNCNo': \"unknown\"})\n",
    "    # Replace missing values with 0 in column: 'Plant'\n",
    "    df = df.fillna({'Plant': 0})\n",
    "    # Replace missing values with \"unknown\" in column: 'Department'\n",
    "    df = df.fillna({'Department': \"unknown\"})\n",
    "    # Replace missing values with \"unknown\" in column: 'WorkCenter'\n",
    "    df = df.fillna({'WorkCenter': \"unknown\"})\n",
    "    # Replace missing values with \"unknown\" in columns: 'FGCode', 'LotNo', 'ProductionDate'\n",
    "    df = df.fillna({'FGCode': \"unknown\", 'LotNo': \"unknown\", 'ProductionDate': \"unknown\"})\n",
    "    # Replace missing values with 0 in column: 'Shift'\n",
    "    df = df.fillna({'Shift': 0})\n",
    "    # Replace missing values with 0 in column: 'QtyOutput3'\n",
    "    df = df.fillna({'QtyOutput3': 0})\n",
    "    # Replace missing values with \"unknown\" in column: 'LeaderName'\n",
    "    df = df.fillna({'LeaderName': \"unknown\"})\n",
    "    # Drop columns: 'DraftDate', 'RejectReason' and 3 other columns\n",
    "    df = df.drop(columns=['DraftDate', 'RejectReason', 'ProcessAssy', 'EquipmentID', 'FormInput'])\n",
    "    # Change column type to string for columns: 'CreateUser', 'ApproveBy' and 2 other columns\n",
    "    df = df.astype({'CreateUser': 'string', 'ApproveBy': 'string', 'Shift': 'string', 'Plant': 'string'})\n",
    "    return df\n",
    "\n",
    "df_clean = clean_data(df.copy())\n",
    "df_clean.head()"
   ]
  },
  {
   "cell_type": "code",
   "execution_count": 3,
   "metadata": {},
   "outputs": [
    {
     "data": {
      "image/png": "[encoded data removed]",
      "text/plain": [
       "<Figure size 1000x600 with 1 Axes>"
      ]
     },
     "metadata": {},
     "output_type": "display_data"
    }
   ],
   "source": [
    "# Plot the distribution of 'isNC' column\n",
    "plt.figure(figsize=(10,6))\n",
    "sns.countplot(x='isNC', data=df_clean, palette='coolwarm')\n",
    "plt.title('Distribution of NC vs Non-NC')\n",
    "plt.xlabel('isNC')\n",
    "plt.ylabel('Total Counts')\n",
    "plt.show()"
   ]
  },
  {
   "cell_type": "code",
   "execution_count": 4,
   "metadata": {},
   "outputs": [],
   "source": [
    "# split data into feature and target\n",
    "X = df_clean.drop(columns=['isNC'])\n",
    "y = df_clean['isNC']\n",
    "\n",
    "\n",
    "# apply random oversampling to handle imbalance\n",
    "ros = RandomOverSampler(random_state=42)\n",
    "X_ros, y_ros = ros.fit_resample(X,y)"
   ]
  },
  {
   "cell_type": "code",
   "execution_count": 5,
   "metadata": {},
   "outputs": [],
   "source": [
    "# Combine back into a single DataFrame\n",
    "data_ros = pd.DataFrame(X_ros, columns=X.columns)\n",
    "data_ros['isNC'] = y_ros"
   ]
  },
  {
   "cell_type": "code",
   "execution_count": 6,
   "metadata": {},
   "outputs": [
    {
     "data": {
      "image/png": "[encoded data removed]",
      "text/plain": [
       "<Figure size 800x550 with 1 Axes>"
      ]
     },
     "metadata": {},
     "output_type": "display_data"
    }
   ],
   "source": [
    "pd.Series(y_ros).value_counts().plot(kind='bar', title='Count (isNC) Column after OverSampling', color=['skyblue', 'salmon'])\n",
    "plt.show()"
   ]
  },
  {
   "cell_type": "code",
   "execution_count": 7,
   "metadata": {},
   "outputs": [
    {
     "name": "stdout",
     "output_type": "stream",
     "text": [
      "SessionID          object\n",
      "TimeStart          object\n",
      "TimeStop           object\n",
      "ProcessBy          object\n",
      "ShiftID            object\n",
      "Product            object\n",
      "WeightID           object\n",
      "Location           object\n",
      "LeaderID           object\n",
      "Mpw                 int64\n",
      "ProdCode           object\n",
      "Lot                object\n",
      "QtyOutput           int64\n",
      "Remark             object\n",
      "LNCNo              object\n",
      "Plant              string\n",
      "Department         object\n",
      "WorkCenter         object\n",
      "SessionID2         object\n",
      "FGCode             object\n",
      "LotNo              object\n",
      "ProductionDate     object\n",
      "Shift              string\n",
      "QtyOutput3        float64\n",
      "LeaderName         object\n",
      "LNCStatus          object\n",
      "ApproveBy          string\n",
      "ApproveDate        object\n",
      "CreateDate         object\n",
      "CreateUser         string\n",
      "isNC                int64\n",
      "dtype: object\n"
     ]
    }
   ],
   "source": [
    "print(data_ros.dtypes)"
   ]
  },
  {
   "cell_type": "code",
   "execution_count": null,
   "metadata": {},
   "outputs": [],
   "source": [
    "df_clean"
   ]
  },
  {
   "cell_type": "code",
   "execution_count": 13,
   "metadata": {},
   "outputs": [
    {
     "ename": "AttributeError",
     "evalue": "'bool' object has no attribute 'transpose'",
     "output_type": "error",
     "traceback": [
      "\u001b[31m---------------------------------------------------------------------------\u001b[39m",
      "\u001b[31mAttributeError\u001b[39m                            Traceback (most recent call last)",
      "\u001b[36mCell\u001b[39m\u001b[36m \u001b[39m\u001b[32mIn[13]\u001b[39m\u001b[32m, line 2\u001b[39m\n\u001b[32m      1\u001b[39m \u001b[38;5;66;03m# Set up PyCaret environment with Random Oversampled data\u001b[39;00m\n\u001b[32m----> \u001b[39m\u001b[32m2\u001b[39m clf = \u001b[43msetup\u001b[49m\u001b[43m(\u001b[49m\n\u001b[32m      3\u001b[39m \u001b[43m    \u001b[49m\u001b[43mdata\u001b[49m\u001b[43m=\u001b[49m\u001b[43mdf_clean\u001b[49m\u001b[43m,\u001b[49m\n\u001b[32m      4\u001b[39m \u001b[43m    \u001b[49m\u001b[43mtarget\u001b[49m\u001b[43m=\u001b[49m\u001b[33;43m'\u001b[39;49m\u001b[33;43misNC\u001b[39;49m\u001b[33;43m'\u001b[39;49m\u001b[43m,\u001b[49m\n\u001b[32m      5\u001b[39m \u001b[43m    \u001b[49m\u001b[43msession_id\u001b[49m\u001b[43m=\u001b[49m\u001b[32;43m42\u001b[39;49m\u001b[43m,\u001b[49m\n\u001b[32m      6\u001b[39m \u001b[43m    \u001b[49m\u001b[43mfix_imbalance\u001b[49m\u001b[43m=\u001b[49m\u001b[38;5;28;43;01mTrue\u001b[39;49;00m\u001b[43m,\u001b[49m\u001b[43m \u001b[49m\n\u001b[32m      7\u001b[39m \u001b[43m    \u001b[49m\u001b[43mnormalize\u001b[49m\u001b[43m=\u001b[49m\u001b[38;5;28;43;01mTrue\u001b[39;49;00m\u001b[43m,\u001b[49m\n\u001b[32m      8\u001b[39m \u001b[43m    \u001b[49m\u001b[43mremove_outliers\u001b[49m\u001b[43m=\u001b[49m\u001b[38;5;28;43;01mTrue\u001b[39;49;00m\u001b[43m,\u001b[49m\n\u001b[32m      9\u001b[39m \u001b[43m    \u001b[49m\u001b[43moutliers_threshold\u001b[49m\u001b[43m=\u001b[49m\u001b[32;43m0.05\u001b[39;49m\u001b[43m,\u001b[49m\n\u001b[32m     10\u001b[39m \u001b[43m)\u001b[49m\n",
      "\u001b[36mFile \u001b[39m\u001b[32mc:\\Users\\sbm_mes240441\\AppData\\Local\\miniconda3\\envs\\pbi_ml\\Lib\\site-packages\\pycaret\\classification\\functional.py:595\u001b[39m, in \u001b[36msetup\u001b[39m\u001b[34m(data, data_func, target, index, train_size, test_data, ordinal_features, numeric_features, categorical_features, date_features, text_features, ignore_features, keep_features, preprocess, create_date_columns, imputation_type, numeric_imputation, categorical_imputation, iterative_imputation_iters, numeric_iterative_imputer, categorical_iterative_imputer, text_features_method, max_encoding_ohe, encoding_method, rare_to_value, rare_value, polynomial_features, polynomial_degree, low_variance_threshold, group_features, drop_groups, remove_multicollinearity, multicollinearity_threshold, bin_numeric_features, remove_outliers, outliers_method, outliers_threshold, fix_imbalance, fix_imbalance_method, transformation, transformation_method, normalize, normalize_method, pca, pca_method, pca_components, feature_selection, feature_selection_method, feature_selection_estimator, n_features_to_select, custom_pipeline, custom_pipeline_position, data_split_shuffle, data_split_stratify, fold_strategy, fold, fold_shuffle, fold_groups, n_jobs, use_gpu, html, session_id, system_log, log_experiment, experiment_name, experiment_custom_tags, log_plots, log_profile, log_data, verbose, memory, profile, profile_kwargs)\u001b[39m\n\u001b[32m    593\u001b[39m exp = _EXPERIMENT_CLASS()\n\u001b[32m    594\u001b[39m set_current_experiment(exp)\n\u001b[32m--> \u001b[39m\u001b[32m595\u001b[39m \u001b[38;5;28;01mreturn\u001b[39;00m \u001b[43mexp\u001b[49m\u001b[43m.\u001b[49m\u001b[43msetup\u001b[49m\u001b[43m(\u001b[49m\n\u001b[32m    596\u001b[39m \u001b[43m    \u001b[49m\u001b[43mdata\u001b[49m\u001b[43m=\u001b[49m\u001b[43mdata\u001b[49m\u001b[43m,\u001b[49m\n\u001b[32m    597\u001b[39m \u001b[43m    \u001b[49m\u001b[43mdata_func\u001b[49m\u001b[43m=\u001b[49m\u001b[43mdata_func\u001b[49m\u001b[43m,\u001b[49m\n\u001b[32m    598\u001b[39m \u001b[43m    \u001b[49m\u001b[43mtarget\u001b[49m\u001b[43m=\u001b[49m\u001b[43mtarget\u001b[49m\u001b[43m,\u001b[49m\n\u001b[32m    599\u001b[39m \u001b[43m    \u001b[49m\u001b[43mindex\u001b[49m\u001b[43m=\u001b[49m\u001b[43mindex\u001b[49m\u001b[43m,\u001b[49m\n\u001b[32m    600\u001b[39m \u001b[43m    \u001b[49m\u001b[43mtrain_size\u001b[49m\u001b[43m=\u001b[49m\u001b[43mtrain_size\u001b[49m\u001b[43m,\u001b[49m\n\u001b[32m    601\u001b[39m \u001b[43m    \u001b[49m\u001b[43mtest_data\u001b[49m\u001b[43m=\u001b[49m\u001b[43mtest_data\u001b[49m\u001b[43m,\u001b[49m\n\u001b[32m    602\u001b[39m \u001b[43m    \u001b[49m\u001b[43mordinal_features\u001b[49m\u001b[43m=\u001b[49m\u001b[43mordinal_features\u001b[49m\u001b[43m,\u001b[49m\n\u001b[32m    603\u001b[39m \u001b[43m    \u001b[49m\u001b[43mnumeric_features\u001b[49m\u001b[43m=\u001b[49m\u001b[43mnumeric_features\u001b[49m\u001b[43m,\u001b[49m\n\u001b[32m    604\u001b[39m \u001b[43m    \u001b[49m\u001b[43mcategorical_features\u001b[49m\u001b[43m=\u001b[49m\u001b[43mcategorical_features\u001b[49m\u001b[43m,\u001b[49m\n\u001b[32m    605\u001b[39m \u001b[43m    \u001b[49m\u001b[43mdate_features\u001b[49m\u001b[43m=\u001b[49m\u001b[43mdate_features\u001b[49m\u001b[43m,\u001b[49m\n\u001b[32m    606\u001b[39m \u001b[43m    \u001b[49m\u001b[43mtext_features\u001b[49m\u001b[43m=\u001b[49m\u001b[43mtext_features\u001b[49m\u001b[43m,\u001b[49m\n\u001b[32m    607\u001b[39m \u001b[43m    \u001b[49m\u001b[43mignore_features\u001b[49m\u001b[43m=\u001b[49m\u001b[43mignore_features\u001b[49m\u001b[43m,\u001b[49m\n\u001b[32m    608\u001b[39m \u001b[43m    \u001b[49m\u001b[43mkeep_features\u001b[49m\u001b[43m=\u001b[49m\u001b[43mkeep_features\u001b[49m\u001b[43m,\u001b[49m\n\u001b[32m    609\u001b[39m \u001b[43m    \u001b[49m\u001b[43mpreprocess\u001b[49m\u001b[43m=\u001b[49m\u001b[43mpreprocess\u001b[49m\u001b[43m,\u001b[49m\n\u001b[32m    610\u001b[39m \u001b[43m    \u001b[49m\u001b[43mcreate_date_columns\u001b[49m\u001b[43m=\u001b[49m\u001b[43mcreate_date_columns\u001b[49m\u001b[43m,\u001b[49m\n\u001b[32m    611\u001b[39m \u001b[43m    \u001b[49m\u001b[43mimputation_type\u001b[49m\u001b[43m=\u001b[49m\u001b[43mimputation_type\u001b[49m\u001b[43m,\u001b[49m\n\u001b[32m    612\u001b[39m \u001b[43m    \u001b[49m\u001b[43mnumeric_imputation\u001b[49m\u001b[43m=\u001b[49m\u001b[43mnumeric_imputation\u001b[49m\u001b[43m,\u001b[49m\n\u001b[32m    613\u001b[39m \u001b[43m    \u001b[49m\u001b[43mcategorical_imputation\u001b[49m\u001b[43m=\u001b[49m\u001b[43mcategorical_imputation\u001b[49m\u001b[43m,\u001b[49m\n\u001b[32m    614\u001b[39m \u001b[43m    \u001b[49m\u001b[43miterative_imputation_iters\u001b[49m\u001b[43m=\u001b[49m\u001b[43miterative_imputation_iters\u001b[49m\u001b[43m,\u001b[49m\n\u001b[32m    615\u001b[39m \u001b[43m    \u001b[49m\u001b[43mnumeric_iterative_imputer\u001b[49m\u001b[43m=\u001b[49m\u001b[43mnumeric_iterative_imputer\u001b[49m\u001b[43m,\u001b[49m\n\u001b[32m    616\u001b[39m \u001b[43m    \u001b[49m\u001b[43mcategorical_iterative_imputer\u001b[49m\u001b[43m=\u001b[49m\u001b[43mcategorical_iterative_imputer\u001b[49m\u001b[43m,\u001b[49m\n\u001b[32m    617\u001b[39m \u001b[43m    \u001b[49m\u001b[43mtext_features_method\u001b[49m\u001b[43m=\u001b[49m\u001b[43mtext_features_method\u001b[49m\u001b[43m,\u001b[49m\n\u001b[32m    618\u001b[39m \u001b[43m    \u001b[49m\u001b[43mmax_encoding_ohe\u001b[49m\u001b[43m=\u001b[49m\u001b[43mmax_encoding_ohe\u001b[49m\u001b[43m,\u001b[49m\n\u001b[32m    619\u001b[39m \u001b[43m    \u001b[49m\u001b[43mencoding_method\u001b[49m\u001b[43m=\u001b[49m\u001b[43mencoding_method\u001b[49m\u001b[43m,\u001b[49m\n\u001b[32m    620\u001b[39m \u001b[43m    \u001b[49m\u001b[43mrare_to_value\u001b[49m\u001b[43m=\u001b[49m\u001b[43mrare_to_value\u001b[49m\u001b[43m,\u001b[49m\n\u001b[32m    621\u001b[39m \u001b[43m    \u001b[49m\u001b[43mrare_value\u001b[49m\u001b[43m=\u001b[49m\u001b[43mrare_value\u001b[49m\u001b[43m,\u001b[49m\n\u001b[32m    622\u001b[39m \u001b[43m    \u001b[49m\u001b[43mpolynomial_features\u001b[49m\u001b[43m=\u001b[49m\u001b[43mpolynomial_features\u001b[49m\u001b[43m,\u001b[49m\n\u001b[32m    623\u001b[39m \u001b[43m    \u001b[49m\u001b[43mpolynomial_degree\u001b[49m\u001b[43m=\u001b[49m\u001b[43mpolynomial_degree\u001b[49m\u001b[43m,\u001b[49m\n\u001b[32m    624\u001b[39m \u001b[43m    \u001b[49m\u001b[43mlow_variance_threshold\u001b[49m\u001b[43m=\u001b[49m\u001b[43mlow_variance_threshold\u001b[49m\u001b[43m,\u001b[49m\n\u001b[32m    625\u001b[39m \u001b[43m    \u001b[49m\u001b[43mgroup_features\u001b[49m\u001b[43m=\u001b[49m\u001b[43mgroup_features\u001b[49m\u001b[43m,\u001b[49m\n\u001b[32m    626\u001b[39m \u001b[43m    \u001b[49m\u001b[43mdrop_groups\u001b[49m\u001b[43m=\u001b[49m\u001b[43mdrop_groups\u001b[49m\u001b[43m,\u001b[49m\n\u001b[32m    627\u001b[39m \u001b[43m    \u001b[49m\u001b[43mremove_multicollinearity\u001b[49m\u001b[43m=\u001b[49m\u001b[43mremove_multicollinearity\u001b[49m\u001b[43m,\u001b[49m\n\u001b[32m    628\u001b[39m \u001b[43m    \u001b[49m\u001b[43mmulticollinearity_threshold\u001b[49m\u001b[43m=\u001b[49m\u001b[43mmulticollinearity_threshold\u001b[49m\u001b[43m,\u001b[49m\n\u001b[32m    629\u001b[39m \u001b[43m    \u001b[49m\u001b[43mbin_numeric_features\u001b[49m\u001b[43m=\u001b[49m\u001b[43mbin_numeric_features\u001b[49m\u001b[43m,\u001b[49m\n\u001b[32m    630\u001b[39m \u001b[43m    \u001b[49m\u001b[43mremove_outliers\u001b[49m\u001b[43m=\u001b[49m\u001b[43mremove_outliers\u001b[49m\u001b[43m,\u001b[49m\n\u001b[32m    631\u001b[39m \u001b[43m    \u001b[49m\u001b[43moutliers_method\u001b[49m\u001b[43m=\u001b[49m\u001b[43moutliers_method\u001b[49m\u001b[43m,\u001b[49m\n\u001b[32m    632\u001b[39m \u001b[43m    \u001b[49m\u001b[43moutliers_threshold\u001b[49m\u001b[43m=\u001b[49m\u001b[43moutliers_threshold\u001b[49m\u001b[43m,\u001b[49m\n\u001b[32m    633\u001b[39m \u001b[43m    \u001b[49m\u001b[43mfix_imbalance\u001b[49m\u001b[43m=\u001b[49m\u001b[43mfix_imbalance\u001b[49m\u001b[43m,\u001b[49m\n\u001b[32m    634\u001b[39m \u001b[43m    \u001b[49m\u001b[43mfix_imbalance_method\u001b[49m\u001b[43m=\u001b[49m\u001b[43mfix_imbalance_method\u001b[49m\u001b[43m,\u001b[49m\n\u001b[32m    635\u001b[39m \u001b[43m    \u001b[49m\u001b[43mtransformation\u001b[49m\u001b[43m=\u001b[49m\u001b[43mtransformation\u001b[49m\u001b[43m,\u001b[49m\n\u001b[32m    636\u001b[39m \u001b[43m    \u001b[49m\u001b[43mtransformation_method\u001b[49m\u001b[43m=\u001b[49m\u001b[43mtransformation_method\u001b[49m\u001b[43m,\u001b[49m\n\u001b[32m    637\u001b[39m \u001b[43m    \u001b[49m\u001b[43mnormalize\u001b[49m\u001b[43m=\u001b[49m\u001b[43mnormalize\u001b[49m\u001b[43m,\u001b[49m\n\u001b[32m    638\u001b[39m \u001b[43m    \u001b[49m\u001b[43mnormalize_method\u001b[49m\u001b[43m=\u001b[49m\u001b[43mnormalize_method\u001b[49m\u001b[43m,\u001b[49m\n\u001b[32m    639\u001b[39m \u001b[43m    \u001b[49m\u001b[43mpca\u001b[49m\u001b[43m=\u001b[49m\u001b[43mpca\u001b[49m\u001b[43m,\u001b[49m\n\u001b[32m    640\u001b[39m \u001b[43m    \u001b[49m\u001b[43mpca_method\u001b[49m\u001b[43m=\u001b[49m\u001b[43mpca_method\u001b[49m\u001b[43m,\u001b[49m\n\u001b[32m    641\u001b[39m \u001b[43m    \u001b[49m\u001b[43mpca_components\u001b[49m\u001b[43m=\u001b[49m\u001b[43mpca_components\u001b[49m\u001b[43m,\u001b[49m\n\u001b[32m    642\u001b[39m \u001b[43m    \u001b[49m\u001b[43mfeature_selection\u001b[49m\u001b[43m=\u001b[49m\u001b[43mfeature_selection\u001b[49m\u001b[43m,\u001b[49m\n\u001b[32m    643\u001b[39m \u001b[43m    \u001b[49m\u001b[43mfeature_selection_method\u001b[49m\u001b[43m=\u001b[49m\u001b[43mfeature_selection_method\u001b[49m\u001b[43m,\u001b[49m\n\u001b[32m    644\u001b[39m \u001b[43m    \u001b[49m\u001b[43mfeature_selection_estimator\u001b[49m\u001b[43m=\u001b[49m\u001b[43mfeature_selection_estimator\u001b[49m\u001b[43m,\u001b[49m\n\u001b[32m    645\u001b[39m \u001b[43m    \u001b[49m\u001b[43mn_features_to_select\u001b[49m\u001b[43m=\u001b[49m\u001b[43mn_features_to_select\u001b[49m\u001b[43m,\u001b[49m\n\u001b[32m    646\u001b[39m \u001b[43m    \u001b[49m\u001b[43mcustom_pipeline\u001b[49m\u001b[43m=\u001b[49m\u001b[43mcustom_pipeline\u001b[49m\u001b[43m,\u001b[49m\n\u001b[32m    647\u001b[39m \u001b[43m    \u001b[49m\u001b[43mcustom_pipeline_position\u001b[49m\u001b[43m=\u001b[49m\u001b[43mcustom_pipeline_position\u001b[49m\u001b[43m,\u001b[49m\n\u001b[32m    648\u001b[39m \u001b[43m    \u001b[49m\u001b[43mdata_split_shuffle\u001b[49m\u001b[43m=\u001b[49m\u001b[43mdata_split_shuffle\u001b[49m\u001b[43m,\u001b[49m\n\u001b[32m    649\u001b[39m \u001b[43m    \u001b[49m\u001b[43mdata_split_stratify\u001b[49m\u001b[43m=\u001b[49m\u001b[43mdata_split_stratify\u001b[49m\u001b[43m,\u001b[49m\n\u001b[32m    650\u001b[39m \u001b[43m    \u001b[49m\u001b[43mfold_strategy\u001b[49m\u001b[43m=\u001b[49m\u001b[43mfold_strategy\u001b[49m\u001b[43m,\u001b[49m\n\u001b[32m    651\u001b[39m \u001b[43m    \u001b[49m\u001b[43mfold\u001b[49m\u001b[43m=\u001b[49m\u001b[43mfold\u001b[49m\u001b[43m,\u001b[49m\n\u001b[32m    652\u001b[39m \u001b[43m    \u001b[49m\u001b[43mfold_shuffle\u001b[49m\u001b[43m=\u001b[49m\u001b[43mfold_shuffle\u001b[49m\u001b[43m,\u001b[49m\n\u001b[32m    653\u001b[39m \u001b[43m    \u001b[49m\u001b[43mfold_groups\u001b[49m\u001b[43m=\u001b[49m\u001b[43mfold_groups\u001b[49m\u001b[43m,\u001b[49m\n\u001b[32m    654\u001b[39m \u001b[43m    \u001b[49m\u001b[43mn_jobs\u001b[49m\u001b[43m=\u001b[49m\u001b[43mn_jobs\u001b[49m\u001b[43m,\u001b[49m\n\u001b[32m    655\u001b[39m \u001b[43m    \u001b[49m\u001b[43muse_gpu\u001b[49m\u001b[43m=\u001b[49m\u001b[43muse_gpu\u001b[49m\u001b[43m,\u001b[49m\n\u001b[32m    656\u001b[39m \u001b[43m    \u001b[49m\u001b[43mhtml\u001b[49m\u001b[43m=\u001b[49m\u001b[43mhtml\u001b[49m\u001b[43m,\u001b[49m\n\u001b[32m    657\u001b[39m \u001b[43m    \u001b[49m\u001b[43msession_id\u001b[49m\u001b[43m=\u001b[49m\u001b[43msession_id\u001b[49m\u001b[43m,\u001b[49m\n\u001b[32m    658\u001b[39m \u001b[43m    \u001b[49m\u001b[43msystem_log\u001b[49m\u001b[43m=\u001b[49m\u001b[43msystem_log\u001b[49m\u001b[43m,\u001b[49m\n\u001b[32m    659\u001b[39m \u001b[43m    \u001b[49m\u001b[43mlog_experiment\u001b[49m\u001b[43m=\u001b[49m\u001b[43mlog_experiment\u001b[49m\u001b[43m,\u001b[49m\n\u001b[32m    660\u001b[39m \u001b[43m    \u001b[49m\u001b[43mexperiment_name\u001b[49m\u001b[43m=\u001b[49m\u001b[43mexperiment_name\u001b[49m\u001b[43m,\u001b[49m\n\u001b[32m    661\u001b[39m \u001b[43m    \u001b[49m\u001b[43mexperiment_custom_tags\u001b[49m\u001b[43m=\u001b[49m\u001b[43mexperiment_custom_tags\u001b[49m\u001b[43m,\u001b[49m\n\u001b[32m    662\u001b[39m \u001b[43m    \u001b[49m\u001b[43mlog_plots\u001b[49m\u001b[43m=\u001b[49m\u001b[43mlog_plots\u001b[49m\u001b[43m,\u001b[49m\n\u001b[32m    663\u001b[39m \u001b[43m    \u001b[49m\u001b[43mlog_profile\u001b[49m\u001b[43m=\u001b[49m\u001b[43mlog_profile\u001b[49m\u001b[43m,\u001b[49m\n\u001b[32m    664\u001b[39m \u001b[43m    \u001b[49m\u001b[43mlog_data\u001b[49m\u001b[43m=\u001b[49m\u001b[43mlog_data\u001b[49m\u001b[43m,\u001b[49m\n\u001b[32m    665\u001b[39m \u001b[43m    \u001b[49m\u001b[43mverbose\u001b[49m\u001b[43m=\u001b[49m\u001b[43mverbose\u001b[49m\u001b[43m,\u001b[49m\n\u001b[32m    666\u001b[39m \u001b[43m    \u001b[49m\u001b[43mmemory\u001b[49m\u001b[43m=\u001b[49m\u001b[43mmemory\u001b[49m\u001b[43m,\u001b[49m\n\u001b[32m    667\u001b[39m \u001b[43m    \u001b[49m\u001b[43mprofile\u001b[49m\u001b[43m=\u001b[49m\u001b[43mprofile\u001b[49m\u001b[43m,\u001b[49m\n\u001b[32m    668\u001b[39m \u001b[43m    \u001b[49m\u001b[43mprofile_kwargs\u001b[49m\u001b[43m=\u001b[49m\u001b[43mprofile_kwargs\u001b[49m\u001b[43m,\u001b[49m\n\u001b[32m    669\u001b[39m \u001b[43m\u001b[49m\u001b[43m)\u001b[49m\n",
      "\u001b[36mFile \u001b[39m\u001b[32mc:\\Users\\sbm_mes240441\\AppData\\Local\\miniconda3\\envs\\pbi_ml\\Lib\\site-packages\\pycaret\\classification\\oop.py:890\u001b[39m, in \u001b[36mClassificationExperiment.setup\u001b[39m\u001b[34m(self, data, data_func, target, index, train_size, test_data, ordinal_features, numeric_features, categorical_features, date_features, text_features, ignore_features, keep_features, preprocess, create_date_columns, imputation_type, numeric_imputation, categorical_imputation, iterative_imputation_iters, numeric_iterative_imputer, categorical_iterative_imputer, text_features_method, max_encoding_ohe, encoding_method, rare_to_value, rare_value, polynomial_features, polynomial_degree, low_variance_threshold, group_features, drop_groups, remove_multicollinearity, multicollinearity_threshold, bin_numeric_features, remove_outliers, outliers_method, outliers_threshold, fix_imbalance, fix_imbalance_method, transformation, transformation_method, normalize, normalize_method, pca, pca_method, pca_components, feature_selection, feature_selection_method, feature_selection_estimator, n_features_to_select, custom_pipeline, custom_pipeline_position, data_split_shuffle, data_split_stratify, fold_strategy, fold, fold_shuffle, fold_groups, n_jobs, use_gpu, html, session_id, system_log, log_experiment, experiment_name, experiment_custom_tags, log_plots, log_profile, log_data, engine, verbose, memory, profile, profile_kwargs)\u001b[39m\n\u001b[32m    887\u001b[39m \u001b[38;5;28;01mif\u001b[39;00m (\u001b[33m\"\u001b[39m\u001b[33mplaceholder\u001b[39m\u001b[33m\"\u001b[39m, \u001b[38;5;28;01mNone\u001b[39;00m) \u001b[38;5;129;01min\u001b[39;00m \u001b[38;5;28mself\u001b[39m.pipeline.steps \u001b[38;5;129;01mand\u001b[39;00m \u001b[38;5;28mlen\u001b[39m(\u001b[38;5;28mself\u001b[39m.pipeline) > \u001b[32m1\u001b[39m:\n\u001b[32m    888\u001b[39m     \u001b[38;5;28mself\u001b[39m.pipeline.steps.remove((\u001b[33m\"\u001b[39m\u001b[33mplaceholder\u001b[39m\u001b[33m\"\u001b[39m, \u001b[38;5;28;01mNone\u001b[39;00m))\n\u001b[32m--> \u001b[39m\u001b[32m890\u001b[39m \u001b[38;5;28;43mself\u001b[39;49m\u001b[43m.\u001b[49m\u001b[43mpipeline\u001b[49m\u001b[43m.\u001b[49m\u001b[43mfit\u001b[49m\u001b[43m(\u001b[49m\u001b[38;5;28;43mself\u001b[39;49m\u001b[43m.\u001b[49m\u001b[43mX_train\u001b[49m\u001b[43m,\u001b[49m\u001b[43m \u001b[49m\u001b[38;5;28;43mself\u001b[39;49m\u001b[43m.\u001b[49m\u001b[43my_train\u001b[49m\u001b[43m)\u001b[49m\n\u001b[32m    892\u001b[39m \u001b[38;5;28mself\u001b[39m.logger.info(\u001b[33m\"\u001b[39m\u001b[33mFinished creating preprocessing pipeline.\u001b[39m\u001b[33m\"\u001b[39m)\n\u001b[32m    893\u001b[39m \u001b[38;5;28mself\u001b[39m.logger.info(\u001b[33mf\u001b[39m\u001b[33m\"\u001b[39m\u001b[33mPipeline: \u001b[39m\u001b[38;5;132;01m{\u001b[39;00m\u001b[38;5;28mself\u001b[39m.pipeline\u001b[38;5;132;01m}\u001b[39;00m\u001b[33m\"\u001b[39m)\n",
      "\u001b[36mFile \u001b[39m\u001b[32mc:\\Users\\sbm_mes240441\\AppData\\Local\\miniconda3\\envs\\pbi_ml\\Lib\\site-packages\\pycaret\\internal\\pipeline.py:273\u001b[39m, in \u001b[36mPipeline.fit\u001b[39m\u001b[34m(self, X, y, **params)\u001b[39m\n\u001b[32m    271\u001b[39m \u001b[38;5;28;01mdef\u001b[39;00m\u001b[38;5;250m \u001b[39m\u001b[34mfit\u001b[39m(\u001b[38;5;28mself\u001b[39m, X=\u001b[38;5;28;01mNone\u001b[39;00m, y=\u001b[38;5;28;01mNone\u001b[39;00m, **params):\n\u001b[32m    272\u001b[39m     routed_params = \u001b[38;5;28mself\u001b[39m._check_method_params(method=\u001b[33m\"\u001b[39m\u001b[33mfit\u001b[39m\u001b[33m\"\u001b[39m, props=params)\n\u001b[32m--> \u001b[39m\u001b[32m273\u001b[39m     X, y, _ = \u001b[38;5;28;43mself\u001b[39;49m\u001b[43m.\u001b[49m\u001b[43m_fit\u001b[49m\u001b[43m(\u001b[49m\u001b[43mX\u001b[49m\u001b[43m,\u001b[49m\u001b[43m \u001b[49m\u001b[43my\u001b[49m\u001b[43m,\u001b[49m\u001b[43m \u001b[49m\u001b[43mrouted_params\u001b[49m\u001b[43m)\u001b[49m\n\u001b[32m    275\u001b[39m     \u001b[38;5;28;01mwith\u001b[39;00m _print_elapsed_time(\u001b[33m\"\u001b[39m\u001b[33mPipeline\u001b[39m\u001b[33m\"\u001b[39m, \u001b[38;5;28mself\u001b[39m._log_message(\u001b[38;5;28mlen\u001b[39m(\u001b[38;5;28mself\u001b[39m.steps) - \u001b[32m1\u001b[39m)):\n\u001b[32m    276\u001b[39m         \u001b[38;5;28;01mif\u001b[39;00m \u001b[38;5;28mself\u001b[39m._final_estimator != \u001b[33m\"\u001b[39m\u001b[33mpassthrough\u001b[39m\u001b[33m\"\u001b[39m:\n",
      "\u001b[36mFile \u001b[39m\u001b[32mc:\\Users\\sbm_mes240441\\AppData\\Local\\miniconda3\\envs\\pbi_ml\\Lib\\site-packages\\pycaret\\internal\\pipeline.py:249\u001b[39m, in \u001b[36mPipeline._fit\u001b[39m\u001b[34m(self, X, y, routed_params)\u001b[39m\n\u001b[32m    246\u001b[39m         cloned._cache_full_transform = \u001b[38;5;28;01mFalse\u001b[39;00m\n\u001b[32m    248\u001b[39m     \u001b[38;5;66;03m# Fit or load the current transformer from cache\u001b[39;00m\n\u001b[32m--> \u001b[39m\u001b[32m249\u001b[39m     fitted_transformer = \u001b[38;5;28;43mself\u001b[39;49m\u001b[43m.\u001b[49m\u001b[43m_memory_fit\u001b[49m\u001b[43m(\u001b[49m\n\u001b[32m    250\u001b[39m \u001b[43m        \u001b[49m\u001b[43mtransformer\u001b[49m\u001b[43m=\u001b[49m\u001b[43mcloned\u001b[49m\u001b[43m,\u001b[49m\n\u001b[32m    251\u001b[39m \u001b[43m        \u001b[49m\u001b[43mX\u001b[49m\u001b[43m=\u001b[49m\u001b[43mX\u001b[49m\u001b[43m,\u001b[49m\n\u001b[32m    252\u001b[39m \u001b[43m        \u001b[49m\u001b[43my\u001b[49m\u001b[43m=\u001b[49m\u001b[43my\u001b[49m\u001b[43m,\u001b[49m\n\u001b[32m    253\u001b[39m \u001b[43m        \u001b[49m\u001b[43mmessage\u001b[49m\u001b[43m=\u001b[49m\u001b[38;5;28;43mself\u001b[39;49m\u001b[43m.\u001b[49m\u001b[43m_log_message\u001b[49m\u001b[43m(\u001b[49m\u001b[43mstep_idx\u001b[49m\u001b[43m)\u001b[49m\u001b[43m,\u001b[49m\n\u001b[32m    254\u001b[39m \u001b[43m        \u001b[49m\u001b[43mparams\u001b[49m\u001b[43m=\u001b[49m\u001b[43mrouted_params\u001b[49m\u001b[43m.\u001b[49m\u001b[43mget\u001b[49m\u001b[43m(\u001b[49m\u001b[43mname\u001b[49m\u001b[43m,\u001b[49m\u001b[43m \u001b[49m\u001b[43m{\u001b[49m\u001b[43m}\u001b[49m\u001b[43m)\u001b[49m\u001b[43m,\u001b[49m\n\u001b[32m    255\u001b[39m \u001b[43m    \u001b[49m\u001b[43m)\u001b[49m\n\u001b[32m    256\u001b[39m     X, y = \u001b[38;5;28mself\u001b[39m._memory_transform(\n\u001b[32m    257\u001b[39m         transformer=fitted_transformer,\n\u001b[32m    258\u001b[39m         X=X,\n\u001b[32m    259\u001b[39m         y=y,\n\u001b[32m    260\u001b[39m     )\n\u001b[32m    262\u001b[39m \u001b[38;5;66;03m# Replace the transformer of the step with the fitted\u001b[39;00m\n\u001b[32m    263\u001b[39m \u001b[38;5;66;03m# transformer (necessary when loading from the cache)\u001b[39;00m\n",
      "\u001b[36mFile \u001b[39m\u001b[32mc:\\Users\\sbm_mes240441\\AppData\\Local\\miniconda3\\envs\\pbi_ml\\Lib\\site-packages\\joblib\\memory.py:655\u001b[39m, in \u001b[36mMemorizedFunc.__call__\u001b[39m\u001b[34m(self, *args, **kwargs)\u001b[39m\n\u001b[32m    654\u001b[39m \u001b[38;5;28;01mdef\u001b[39;00m\u001b[38;5;250m \u001b[39m\u001b[34m__call__\u001b[39m(\u001b[38;5;28mself\u001b[39m, *args, **kwargs):\n\u001b[32m--> \u001b[39m\u001b[32m655\u001b[39m     \u001b[38;5;28;01mreturn\u001b[39;00m \u001b[38;5;28;43mself\u001b[39;49m\u001b[43m.\u001b[49m\u001b[43m_cached_call\u001b[49m\u001b[43m(\u001b[49m\u001b[43margs\u001b[49m\u001b[43m,\u001b[49m\u001b[43m \u001b[49m\u001b[43mkwargs\u001b[49m\u001b[43m)\u001b[49m[\u001b[32m0\u001b[39m]\n",
      "\u001b[36mFile \u001b[39m\u001b[32mc:\\Users\\sbm_mes240441\\AppData\\Local\\miniconda3\\envs\\pbi_ml\\Lib\\site-packages\\pycaret\\internal\\memory.py:392\u001b[39m, in \u001b[36mFastMemorizedFunc._cached_call\u001b[39m\u001b[34m(self, args, kwargs, shelving)\u001b[39m\n\u001b[32m    389\u001b[39m \u001b[38;5;28;01mif\u001b[39;00m must_call:\n\u001b[32m    390\u001b[39m     \u001b[38;5;66;03m# PYCARET CHANGES\u001b[39;00m\n\u001b[32m    391\u001b[39m     \u001b[38;5;28mself\u001b[39m._cached_output_identifiers = func_id, args_id\n\u001b[32m--> \u001b[39m\u001b[32m392\u001b[39m     out, metadata = \u001b[38;5;28;43mself\u001b[39;49m\u001b[43m.\u001b[49m\u001b[43mcall\u001b[49m\u001b[43m(\u001b[49m\u001b[43m*\u001b[49m\u001b[43margs\u001b[49m\u001b[43m,\u001b[49m\u001b[43m \u001b[49m\u001b[43m*\u001b[49m\u001b[43m*\u001b[49m\u001b[43mkwargs\u001b[49m\u001b[43m)\u001b[49m\n\u001b[32m    393\u001b[39m     \u001b[38;5;28;01mif\u001b[39;00m \u001b[38;5;28mself\u001b[39m.mmap_mode \u001b[38;5;129;01mis\u001b[39;00m \u001b[38;5;129;01mnot\u001b[39;00m \u001b[38;5;28;01mNone\u001b[39;00m \u001b[38;5;129;01mand\u001b[39;00m metadata \u001b[38;5;129;01mis\u001b[39;00m \u001b[38;5;129;01mnot\u001b[39;00m \u001b[38;5;28;01mNone\u001b[39;00m:\n\u001b[32m    394\u001b[39m         \u001b[38;5;66;03m# PYCARET CHANGES END\u001b[39;00m\n\u001b[32m    395\u001b[39m         \u001b[38;5;66;03m# Memmap the output at the first call to be consistent with\u001b[39;00m\n\u001b[32m    396\u001b[39m         \u001b[38;5;66;03m# later calls\u001b[39;00m\n\u001b[32m    397\u001b[39m         out = \u001b[38;5;28mself\u001b[39m.store_backend.load_item(\n\u001b[32m    398\u001b[39m             [func_id, args_id], msg=msg, verbose=\u001b[38;5;28mself\u001b[39m._verbose\n\u001b[32m    399\u001b[39m         )\n",
      "\u001b[36mFile \u001b[39m\u001b[32mc:\\Users\\sbm_mes240441\\AppData\\Local\\miniconda3\\envs\\pbi_ml\\Lib\\site-packages\\pycaret\\internal\\memory.py:308\u001b[39m, in \u001b[36mFastMemorizedFunc.call\u001b[39m\u001b[34m(self, *args, **kwargs)\u001b[39m\n\u001b[32m    306\u001b[39m \u001b[38;5;66;03m# PYCARET CHANGES\u001b[39;00m\n\u001b[32m    307\u001b[39m func_start_time = time.monotonic()\n\u001b[32m--> \u001b[39m\u001b[32m308\u001b[39m output = \u001b[38;5;28;43mself\u001b[39;49m\u001b[43m.\u001b[49m\u001b[43mfunc\u001b[49m\u001b[43m(\u001b[49m\u001b[43m*\u001b[49m\u001b[43margs\u001b[49m\u001b[43m,\u001b[49m\u001b[43m \u001b[49m\u001b[43m*\u001b[49m\u001b[43m*\u001b[49m\u001b[43mkwargs\u001b[49m\u001b[43m)\u001b[49m\n\u001b[32m    309\u001b[39m func_duration = time.monotonic() - func_start_time\n\u001b[32m    310\u001b[39m \u001b[38;5;28;01mif\u001b[39;00m func_duration >= \u001b[38;5;28mself\u001b[39m.min_time_to_cache:\n",
      "\u001b[36mFile \u001b[39m\u001b[32mc:\\Users\\sbm_mes240441\\AppData\\Local\\miniconda3\\envs\\pbi_ml\\Lib\\site-packages\\pycaret\\internal\\pipeline.py:69\u001b[39m, in \u001b[36m_fit_one\u001b[39m\u001b[34m(transformer, X, y, message, params)\u001b[39m\n\u001b[32m     67\u001b[39m         \u001b[38;5;28;01mif\u001b[39;00m \u001b[33m\"\u001b[39m\u001b[33my\u001b[39m\u001b[33m\"\u001b[39m \u001b[38;5;129;01min\u001b[39;00m signature(transformer.fit).parameters:\n\u001b[32m     68\u001b[39m             args.append(y)\n\u001b[32m---> \u001b[39m\u001b[32m69\u001b[39m         \u001b[43mtransformer\u001b[49m\u001b[43m.\u001b[49m\u001b[43mfit\u001b[49m\u001b[43m(\u001b[49m\u001b[43m*\u001b[49m\u001b[43margs\u001b[49m\u001b[43m)\u001b[49m\n\u001b[32m     70\u001b[39m \u001b[38;5;28;01mreturn\u001b[39;00m transformer\n",
      "\u001b[36mFile \u001b[39m\u001b[32mc:\\Users\\sbm_mes240441\\AppData\\Local\\miniconda3\\envs\\pbi_ml\\Lib\\site-packages\\pycaret\\internal\\preprocess\\transformers.py:229\u001b[39m, in \u001b[36mTransformerWrapper.fit\u001b[39m\u001b[34m(self, X, y, **fit_params)\u001b[39m\n\u001b[32m    226\u001b[39m \u001b[38;5;28;01mif\u001b[39;00m \u001b[33m\"\u001b[39m\u001b[33my\u001b[39m\u001b[33m\"\u001b[39m \u001b[38;5;129;01min\u001b[39;00m transformer_params \u001b[38;5;129;01mand\u001b[39;00m y \u001b[38;5;129;01mis\u001b[39;00m \u001b[38;5;129;01mnot\u001b[39;00m \u001b[38;5;28;01mNone\u001b[39;00m:\n\u001b[32m    227\u001b[39m     args.append(y)\n\u001b[32m--> \u001b[39m\u001b[32m229\u001b[39m \u001b[38;5;28;43mself\u001b[39;49m\u001b[43m.\u001b[49m\u001b[43mtransformer\u001b[49m\u001b[43m.\u001b[49m\u001b[43mfit\u001b[49m\u001b[43m(\u001b[49m\u001b[43m*\u001b[49m\u001b[43margs\u001b[49m\u001b[43m,\u001b[49m\u001b[43m \u001b[49m\u001b[43m*\u001b[49m\u001b[43m*\u001b[49m\u001b[43mfit_params\u001b[49m\u001b[43m)\u001b[49m\n\u001b[32m    230\u001b[39m \u001b[38;5;28;01mreturn\u001b[39;00m \u001b[38;5;28mself\u001b[39m\n",
      "\u001b[36mFile \u001b[39m\u001b[32mc:\\Users\\sbm_mes240441\\AppData\\Local\\miniconda3\\envs\\pbi_ml\\Lib\\site-packages\\sklearn\\base.py:1474\u001b[39m, in \u001b[36m_fit_context.<locals>.decorator.<locals>.wrapper\u001b[39m\u001b[34m(estimator, *args, **kwargs)\u001b[39m\n\u001b[32m   1467\u001b[39m     estimator._validate_params()\n\u001b[32m   1469\u001b[39m \u001b[38;5;28;01mwith\u001b[39;00m config_context(\n\u001b[32m   1470\u001b[39m     skip_parameter_validation=(\n\u001b[32m   1471\u001b[39m         prefer_skip_nested_validation \u001b[38;5;129;01mor\u001b[39;00m global_skip_validation\n\u001b[32m   1472\u001b[39m     )\n\u001b[32m   1473\u001b[39m ):\n\u001b[32m-> \u001b[39m\u001b[32m1474\u001b[39m     \u001b[38;5;28;01mreturn\u001b[39;00m \u001b[43mfit_method\u001b[49m\u001b[43m(\u001b[49m\u001b[43mestimator\u001b[49m\u001b[43m,\u001b[49m\u001b[43m \u001b[49m\u001b[43m*\u001b[49m\u001b[43margs\u001b[49m\u001b[43m,\u001b[49m\u001b[43m \u001b[49m\u001b[43m*\u001b[49m\u001b[43m*\u001b[49m\u001b[43mkwargs\u001b[49m\u001b[43m)\u001b[49m\n",
      "\u001b[36mFile \u001b[39m\u001b[32mc:\\Users\\sbm_mes240441\\AppData\\Local\\miniconda3\\envs\\pbi_ml\\Lib\\site-packages\\sklearn\\impute\\_base.py:427\u001b[39m, in \u001b[36mSimpleImputer.fit\u001b[39m\u001b[34m(self, X, y)\u001b[39m\n\u001b[32m    423\u001b[39m     \u001b[38;5;28mself\u001b[39m.statistics_ = \u001b[38;5;28mself\u001b[39m._sparse_fit(\n\u001b[32m    424\u001b[39m         X, \u001b[38;5;28mself\u001b[39m.strategy, \u001b[38;5;28mself\u001b[39m.missing_values, fill_value\n\u001b[32m    425\u001b[39m     )\n\u001b[32m    426\u001b[39m \u001b[38;5;28;01melse\u001b[39;00m:\n\u001b[32m--> \u001b[39m\u001b[32m427\u001b[39m     \u001b[38;5;28mself\u001b[39m.statistics_ = \u001b[38;5;28;43mself\u001b[39;49m\u001b[43m.\u001b[49m\u001b[43m_dense_fit\u001b[49m\u001b[43m(\u001b[49m\n\u001b[32m    428\u001b[39m \u001b[43m        \u001b[49m\u001b[43mX\u001b[49m\u001b[43m,\u001b[49m\u001b[43m \u001b[49m\u001b[38;5;28;43mself\u001b[39;49m\u001b[43m.\u001b[49m\u001b[43mstrategy\u001b[49m\u001b[43m,\u001b[49m\u001b[43m \u001b[49m\u001b[38;5;28;43mself\u001b[39;49m\u001b[43m.\u001b[49m\u001b[43mmissing_values\u001b[49m\u001b[43m,\u001b[49m\u001b[43m \u001b[49m\u001b[43mfill_value\u001b[49m\n\u001b[32m    429\u001b[39m \u001b[43m    \u001b[49m\u001b[43m)\u001b[49m\n\u001b[32m    431\u001b[39m \u001b[38;5;28;01mreturn\u001b[39;00m \u001b[38;5;28mself\u001b[39m\n",
      "\u001b[36mFile \u001b[39m\u001b[32mc:\\Users\\sbm_mes240441\\AppData\\Local\\miniconda3\\envs\\pbi_ml\\Lib\\site-packages\\sklearn\\impute\\_base.py:510\u001b[39m, in \u001b[36mSimpleImputer._dense_fit\u001b[39m\u001b[34m(self, X, strategy, missing_values, fill_value)\u001b[39m\n\u001b[32m    503\u001b[39m \u001b[38;5;28;01melif\u001b[39;00m strategy == \u001b[33m\"\u001b[39m\u001b[33mmost_frequent\u001b[39m\u001b[33m\"\u001b[39m:\n\u001b[32m    504\u001b[39m     \u001b[38;5;66;03m# Avoid use of scipy.stats.mstats.mode due to the required\u001b[39;00m\n\u001b[32m    505\u001b[39m     \u001b[38;5;66;03m# additional overhead and slow benchmarking performance.\u001b[39;00m\n\u001b[32m    506\u001b[39m     \u001b[38;5;66;03m# See Issue 14325 and PR 14399 for full discussion.\u001b[39;00m\n\u001b[32m    507\u001b[39m \n\u001b[32m    508\u001b[39m     \u001b[38;5;66;03m# To be able access the elements by columns\u001b[39;00m\n\u001b[32m    509\u001b[39m     X = X.transpose()\n\u001b[32m--> \u001b[39m\u001b[32m510\u001b[39m     mask = \u001b[43mmissing_mask\u001b[49m\u001b[43m.\u001b[49m\u001b[43mtranspose\u001b[49m()\n\u001b[32m    512\u001b[39m     \u001b[38;5;28;01mif\u001b[39;00m X.dtype.kind == \u001b[33m\"\u001b[39m\u001b[33mO\u001b[39m\u001b[33m\"\u001b[39m:\n\u001b[32m    513\u001b[39m         most_frequent = np.empty(X.shape[\u001b[32m0\u001b[39m], dtype=\u001b[38;5;28mobject\u001b[39m)\n",
      "\u001b[31mAttributeError\u001b[39m: 'bool' object has no attribute 'transpose'"
     ]
    }
   ],
   "source": [
    "# Set up PyCaret environment with Random Oversampled data\n",
    "clf = setup(\n",
    "    data=df_clean,\n",
    "    target='isNC',\n",
    "    session_id=42,\n",
    "    fix_imbalance=True, \n",
    "    normalize=True,\n",
    "    remove_outliers=True,\n",
    "    outliers_threshold=0.05,\n",
    ")"
   ]
  },
  {
   "cell_type": "code",
   "execution_count": null,
   "metadata": {},
   "outputs": [],
   "source": []
  }
 ],
 "metadata": {
  "kernelspec": {
   "display_name": "pbi_ml",
   "language": "python",
   "name": "python3"
  },
  "language_info": {
   "codemirror_mode": {
    "name": "ipython",
    "version": 3
   },
   "file_extension": ".py",
   "mimetype": "text/x-python",
   "name": "python",
   "nbconvert_exporter": "python",
   "pygments_lexer": "ipython3",
   "version": "3.11.10"
  }
 },
 "nbformat": 4,
 "nbformat_minor": 2
}
